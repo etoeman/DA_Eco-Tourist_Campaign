{
 "cells": [
  {
   "cell_type": "markdown",
   "metadata": {},
   "source": [
    "# A Data Driven Grassroots Eco-Tourism Marketing Campaign\n",
    "### Applied Data Science Capstone Project by IBM/Coursera"
   ]
  },
  {
   "cell_type": "markdown",
   "metadata": {},
   "source": [
    "## Table of contents\n",
    "* [Introduction / Business Problem](#introduction)\n",
    "* [Data](#data)"
   ]
  },
  {
   "cell_type": "markdown",
   "metadata": {},
   "source": [
    "## 1. INTRODUCTION <a name=\"introduction\"></a>"
   ]
  },
  {
   "cell_type": "markdown",
   "metadata": {},
   "source": [
    "### 1.1 Background\n",
    "\n",
    "The Caribbean island of Dominica is a rugged, picturesque island. It has been described as a mosaic of a thousand shades of green. It has some of the thickest, unspoiled forest in the Caribbean and claims to have to have a river for every day of the year. It beaches too are atypical comprised of black volcanic sand unlike the white sand beaches of its neighbors. Its steep mountains end abruptly at its coastline creating some of the best scuba diving and whale watching alcoves in the world. These attributes have led on numerous occasions to the island being judged one of the most beautiful places in the world. However, these attributes also make the island not a typical sand, sun and sea destination. And since the typical Caribbean vacation is viewed through the sand, sun, and sea lens, the island’s tourism product actually compares unfavorably with other well-known Caribbean destinations. Still, the island recognizes that it has a very unique product that would compete very well in the eco and adventure sector if only it could effectively market to these tourism sub-sectors. The difficulty is that the island has one of the smallest economies in the Americas. It therefore finds it prohibitive to mount an effective mass market campaign to attract these visitors from the metropolitan areas where they reside.  \n",
    "\n",
    "However, the island also has a high outward migration rates which has led to a large, globally dispersed diaspora – a diaspora known to have strong and enduring emotional and financial ties to their island homeland. This diaspora is seen as a strategic marketing asset.\n",
    "\n",
    "### 1.2 Business Problem\n",
    "\n",
    "The business problem the island faces can thus be described as:\n",
    "\n",
    "How can Dominica’s tourism department best identify and attract the target metropolitan eco-tourism markets on an extremely limited budget by leveraging its global diaspora population?"
   ]
  },
  {
   "cell_type": "markdown",
   "metadata": {},
   "source": [
    "## 2. DATA <a name=\"data\"></a>"
   ]
  },
  {
   "cell_type": "markdown",
   "metadata": {},
   "source": [
    "### 2.1 Data for Identifying Diaspora Community Location & Size\n",
    "\n",
    "The general analytical strategy is to determine those cities with the largest diaspora communities and within those cities identify the specific neighborhoods where residents most likely to be interested in an eco-tourism product reside. The Dominican diaspora community would then be able to do targeted volunteer grassroots marketing in the identified “eco-tourism” communities in the form of fliers, hosted community events, business and social networking, etc. However, given a limited budget and a need to show proof of concept before further funding, the scope of this initial project will be limited to identifying the metropolitan city with the largest diaspora population. \n",
    "\n",
    "\n",
    "The following data sources will be needed to extract/generate the required information:\n",
    "* The size of the global diaspora communities will be determined using the United Nations (UN) **UN Migration Database**\n",
    "* Within each country, state and city diapora density will be obtained using national databases such as **US Census Database**\n",
    "\n",
    "These various datasets contain the number of foreign nationals in a country broken down by country of origin, country / region migrated to, age, sex and year of migration. Unfortunately the datasets are available in a format geared at reporting not data analysis. The data therefore requires considerable clean-up and wrangling to get into a rectangular, structured dataframe format. \n",
    "\n",
    "Once the location and size of the Dominican diaspora has been established, these communities will be ranked by size to select the metropolitan city with the largest diaspora community. \n",
    "\n",
    "\n",
    "### 2.2 Data for Identifying Eco-Tourism Metropolitan Neighborhoods\n",
    "\n",
    "The second part of the analysis will attempt to identify which neighborhoods in the selected city offer the best prospects for eco and adventure tourist candidates. To achieve this, the Foursquare location API (Link to Foursquare API) will be used to obtain neighborhood characteristic data. \n",
    "\n",
    "Foursquare neighborhood characteristic data that will help identify potential eco-tourist neighborhoods include:\n",
    "* number of sporting goods (and similar active lifestyle) stores in the neighborhood\n",
    "* number of health food stores in the neighborhood\n",
    "* number of yoga (and similar new age) businesses in the neighborhood\n",
    "* number of green and other environmentally oriented recreational spaces in the neighborhood\n",
    "\n",
    "The JSON file resulting from the Foursquare data pull also required significant wrangling to get it into dataframes of the appropriate type and structure to allow the planned cluster modeling.\n",
    "\n",
    "The objective will be to identify the best feature set that will allow an unsupervised machine learning algorithm to identify neighborhood clusters that should be targeted by diaspora volunteers to market the unique Dominican tourism product."
   ]
  },
  {
   "cell_type": "code",
   "execution_count": null,
   "metadata": {},
   "outputs": [],
   "source": []
  }
 ],
 "metadata": {
  "kernelspec": {
   "display_name": "Python 3",
   "language": "python",
   "name": "python3"
  },
  "language_info": {
   "codemirror_mode": {
    "name": "ipython",
    "version": 3
   },
   "file_extension": ".py",
   "mimetype": "text/x-python",
   "name": "python",
   "nbconvert_exporter": "python",
   "pygments_lexer": "ipython3",
   "version": "3.6.4"
  }
 },
 "nbformat": 4,
 "nbformat_minor": 2
}
